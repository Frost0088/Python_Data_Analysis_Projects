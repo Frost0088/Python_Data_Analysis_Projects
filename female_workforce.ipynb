{
 "cells": [
  {
   "cell_type": "markdown",
   "id": "d713502d-746a-48de-aee1-a40011cbfbb1",
   "metadata": {},
   "source": [
    "## % Distribution of Occupations Among Female Workers - PLFS\n",
    "\n",
    "In this notebook, I am going to wrangle the PLFS dataset to find the percentage distribution of occupations among female workers in India. The dataset contains"
   ]
  },
  {
   "cell_type": "code",
   "execution_count": 99,
   "id": "4c348984-12c0-4874-9883-17f018dd1ff7",
   "metadata": {},
   "outputs": [],
   "source": [
    "# importing required packages \n",
    "import pandas as pd\n",
    "import matplotlib.pyplot as plt\n",
    "import seaborn as sns\n",
    "import plotly.express as px"
   ]
  },
  {
   "cell_type": "code",
   "execution_count": 127,
   "id": "5879e113-8e6b-4df9-87a2-7f66ce48789a",
   "metadata": {},
   "outputs": [],
   "source": [
    "# loading the raw dataset\n",
    "df = pd.read_stata(\"extracted\\cperv.dta\")"
   ]
  },
  {
   "cell_type": "code",
   "execution_count": 128,
   "id": "be16b721-1a61-4e21-bb80-55fc4659b868",
   "metadata": {},
   "outputs": [
    {
     "data": {
      "text/plain": [
       "(424926, 140)"
      ]
     },
     "execution_count": 128,
     "metadata": {},
     "output_type": "execute_result"
    }
   ],
   "source": [
    "df.shape"
   ]
  },
  {
   "cell_type": "markdown",
   "id": "8444a397-0085-4ee8-ab19-452649c4e21f",
   "metadata": {},
   "source": [
    "There are 424926 rows and 140 columns. "
   ]
  },
  {
   "cell_type": "code",
   "execution_count": 4,
   "id": "b1173b66-17b4-4c59-8b93-417d523611e0",
   "metadata": {},
   "outputs": [
    {
     "data": {
      "text/html": [
       "<div>\n",
       "<style scoped>\n",
       "    .dataframe tbody tr th:only-of-type {\n",
       "        vertical-align: middle;\n",
       "    }\n",
       "\n",
       "    .dataframe tbody tr th {\n",
       "        vertical-align: top;\n",
       "    }\n",
       "\n",
       "    .dataframe thead th {\n",
       "        text-align: right;\n",
       "    }\n",
       "</style>\n",
       "<table border=\"1\" class=\"dataframe\">\n",
       "  <thead>\n",
       "    <tr style=\"text-align: right;\">\n",
       "      <th></th>\n",
       "      <th>b1</th>\n",
       "      <th>b2</th>\n",
       "      <th>b3</th>\n",
       "      <th>b4</th>\n",
       "      <th>b5</th>\n",
       "      <th>b6</th>\n",
       "      <th>b7</th>\n",
       "      <th>b8</th>\n",
       "      <th>b9</th>\n",
       "      <th>b10</th>\n",
       "      <th>...</th>\n",
       "      <th>b131</th>\n",
       "      <th>b132</th>\n",
       "      <th>b133</th>\n",
       "      <th>b134</th>\n",
       "      <th>b135</th>\n",
       "      <th>b136</th>\n",
       "      <th>b137</th>\n",
       "      <th>b138</th>\n",
       "      <th>b139</th>\n",
       "      <th>b140</th>\n",
       "    </tr>\n",
       "  </thead>\n",
       "  <tbody>\n",
       "    <tr>\n",
       "      <th>0</th>\n",
       "      <td>P3</td>\n",
       "      <td>CFVP2</td>\n",
       "      <td>104</td>\n",
       "      <td>Q3</td>\n",
       "      <td>V1</td>\n",
       "      <td>1</td>\n",
       "      <td>28</td>\n",
       "      <td>02</td>\n",
       "      <td>281</td>\n",
       "      <td>01</td>\n",
       "      <td>...</td>\n",
       "      <td>0</td>\n",
       "      <td>11</td>\n",
       "      <td>01</td>\n",
       "      <td>611</td>\n",
       "      <td>0</td>\n",
       "      <td>12000</td>\n",
       "      <td>1</td>\n",
       "      <td>2</td>\n",
       "      <td>1293611</td>\n",
       "      <td>4</td>\n",
       "    </tr>\n",
       "    <tr>\n",
       "      <th>1</th>\n",
       "      <td>P3</td>\n",
       "      <td>CFVP2</td>\n",
       "      <td>104</td>\n",
       "      <td>Q3</td>\n",
       "      <td>V1</td>\n",
       "      <td>1</td>\n",
       "      <td>28</td>\n",
       "      <td>02</td>\n",
       "      <td>281</td>\n",
       "      <td>01</td>\n",
       "      <td>...</td>\n",
       "      <td>0</td>\n",
       "      <td>31</td>\n",
       "      <td>84</td>\n",
       "      <td>335</td>\n",
       "      <td>5000</td>\n",
       "      <td>0</td>\n",
       "      <td>1</td>\n",
       "      <td>2</td>\n",
       "      <td>1293611</td>\n",
       "      <td>4</td>\n",
       "    </tr>\n",
       "    <tr>\n",
       "      <th>2</th>\n",
       "      <td>P3</td>\n",
       "      <td>CFVP2</td>\n",
       "      <td>104</td>\n",
       "      <td>Q3</td>\n",
       "      <td>V1</td>\n",
       "      <td>1</td>\n",
       "      <td>28</td>\n",
       "      <td>02</td>\n",
       "      <td>281</td>\n",
       "      <td>01</td>\n",
       "      <td>...</td>\n",
       "      <td>0</td>\n",
       "      <td>21</td>\n",
       "      <td>01</td>\n",
       "      <td>611</td>\n",
       "      <td>0</td>\n",
       "      <td>0</td>\n",
       "      <td>1</td>\n",
       "      <td>2</td>\n",
       "      <td>1293611</td>\n",
       "      <td>4</td>\n",
       "    </tr>\n",
       "    <tr>\n",
       "      <th>3</th>\n",
       "      <td>P3</td>\n",
       "      <td>CFVP2</td>\n",
       "      <td>104</td>\n",
       "      <td>Q3</td>\n",
       "      <td>V1</td>\n",
       "      <td>1</td>\n",
       "      <td>28</td>\n",
       "      <td>02</td>\n",
       "      <td>281</td>\n",
       "      <td>01</td>\n",
       "      <td>...</td>\n",
       "      <td>0</td>\n",
       "      <td>31</td>\n",
       "      <td>84</td>\n",
       "      <td>335</td>\n",
       "      <td>12000</td>\n",
       "      <td>0</td>\n",
       "      <td>1</td>\n",
       "      <td>2</td>\n",
       "      <td>1293611</td>\n",
       "      <td>4</td>\n",
       "    </tr>\n",
       "    <tr>\n",
       "      <th>4</th>\n",
       "      <td>P3</td>\n",
       "      <td>CFVP2</td>\n",
       "      <td>104</td>\n",
       "      <td>Q3</td>\n",
       "      <td>V1</td>\n",
       "      <td>1</td>\n",
       "      <td>28</td>\n",
       "      <td>02</td>\n",
       "      <td>281</td>\n",
       "      <td>01</td>\n",
       "      <td>...</td>\n",
       "      <td>0</td>\n",
       "      <td>11</td>\n",
       "      <td>01</td>\n",
       "      <td>611</td>\n",
       "      <td>0</td>\n",
       "      <td>15000</td>\n",
       "      <td>1</td>\n",
       "      <td>2</td>\n",
       "      <td>1293611</td>\n",
       "      <td>4</td>\n",
       "    </tr>\n",
       "  </tbody>\n",
       "</table>\n",
       "<p>5 rows × 140 columns</p>\n",
       "</div>"
      ],
      "text/plain": [
       "   b1     b2   b3  b4  b5 b6  b7  b8   b9 b10  ... b131 b132 b133 b134   b135  \\\n",
       "0  P3  CFVP2  104  Q3  V1  1  28  02  281  01  ...    0   11   01  611      0   \n",
       "1  P3  CFVP2  104  Q3  V1  1  28  02  281  01  ...    0   31   84  335   5000   \n",
       "2  P3  CFVP2  104  Q3  V1  1  28  02  281  01  ...    0   21   01  611      0   \n",
       "3  P3  CFVP2  104  Q3  V1  1  28  02  281  01  ...    0   31   84  335  12000   \n",
       "4  P3  CFVP2  104  Q3  V1  1  28  02  281  01  ...    0   11   01  611      0   \n",
       "\n",
       "    b136 b137 b138     b139 b140  \n",
       "0  12000    1    2  1293611    4  \n",
       "1      0    1    2  1293611    4  \n",
       "2      0    1    2  1293611    4  \n",
       "3      0    1    2  1293611    4  \n",
       "4  15000    1    2  1293611    4  \n",
       "\n",
       "[5 rows x 140 columns]"
      ]
     },
     "execution_count": 4,
     "metadata": {},
     "output_type": "execute_result"
    }
   ],
   "source": [
    "df.head()"
   ]
  },
  {
   "cell_type": "markdown",
   "id": "187b3627-4be0-4c7c-910d-9d1b32ea9f91",
   "metadata": {},
   "source": [
    "I will rename the columns. For this purpose, I am going to create a dictionary of column names. Corresponding column names are given in the survey file."
   ]
  },
  {
   "cell_type": "code",
   "execution_count": 5,
   "id": "9d35f4ce-8be6-4a4d-b674-8e920bf3f958",
   "metadata": {},
   "outputs": [],
   "source": [
    "old_cols = list(df.columns)"
   ]
  },
  {
   "cell_type": "code",
   "execution_count": 6,
   "id": "556c9485-8b13-4619-8926-b847eb346a07",
   "metadata": {},
   "outputs": [],
   "source": [
    "new_cols = [\n",
    "    \"Panel\", \"File Identification\", \"Schedule\", \"Quarter\", \"Visit\", \"Sector\", \"State/Ut Code\", \"District Code\", \"NSS-Region\", \"Stratum\", \n",
    "    \"Sub-Stratum\", \"Sub-Sample\", \"Food Sub-Region\", \"FSU\", \"Sample Sg/Sb No.\", \"Second Stage Stratum No.\", \"Sample Household Number\", \"Person Serial No.\", \"Relationship To Head\", \"Sex\",\n",
    "    \"Age\", \"Marital Status\", \"General Education Level\", \"Technical Education Level\", \"No. of years in Formal Education\", \"Status of Current Attendance in Educational Institution\", \n",
    "    \"Whether received any Vocational/Technical Training\", \"Whether Training completed during last 365 Days\", \"Field Of Training\", \"Duration Of Training\", \"Type Of Training\", \n",
    "    \"Source Of Funding The Training\", \"Status Code\", \"Industry Code (NIC)\", \"occup_code\", \"Whether Engaged In Any Work In Subsidiary Capacity\", \"(Principal) location Of Workplace Code\", \n",
    "    \"(Principal) Enterprise Type Code\", \"(Principal) No. Of Workers In The Enterprise\", \"(Principal) Type Of Job Contract\", \"(Principal) Eligible Of Paid Leave\", \"(Principal) Social Security Benefits\", \n",
    "    \"(Principal) Usage of product of the economic activity\", \"Status Code\", \"Industry Code (NIC)\", \"Occupation Code (NCO)\", \"(Subsidiary) location Of Workplace Code\", \n",
    "    \"(Subsidiary) Enterprise Type Code\", \"(Subsidiary) No. Of Workers In The Enterprise\", \"(Subsidiary) Type Of Job Contract\", \"(Subsidiary) Eligible Of Paid Leave\", \"(Subsidiary) Social Security Benefits\", \n",
    "    \"(Subsidiary) Usage of product of the economic activity\", \"Ever Worked Prior to last 365 days\", \"Duration of engagement in the economic activity in usual Principal Activity Status\", \n",
    "    \"Duration of engagement in the economic activity in Subsidiary Activity Status\", \"Efforts undertaken to search work\", \"Duration of spell of Unemployment\", \"Whether Ever Worked\", \n",
    "    \"Reason for not working in last 365 days\", \"Main reason for being in Principal activity status (91 to 97)\", \"Status Code for activity 1\", \"Industry Code (NIC) for activity 1\", \n",
    "    \"hours actually worked for activity 1 on 7th day\", \"wage earning for activity 1 on 7th day\", \"Status Code for activity 2\", \"Industry Code (NIC) for activity 2\", \n",
    "    \"hours actually worked for activity 2 on 7th day\", \"wage earning for activity 2 on 7th day\", \"total hours actually worked on 7th day\", \"hours available for additional worked on 7th day\", \n",
    "    \"Status Code for activity 1\", \"Industry Code (NIC) for activity 1\", \"hours actually worked for activity 1 on 6th day\", \"wage earning for activity 1 on 7th day\", \n",
    "    \"Status Code for activity 2\", \"Industry Code (NIC) for activity 2\", \"hours actually worked for activity 2 on 6th day\", \"wage earning for activity 2 on 6th day\", \n",
    "    \"total hours actually worked on 6th day\", \"hours available for additional worked on 6th day\", \"Status Code for activity 1\", \"Industry Code (NIC) for activity 1\", \n",
    "    \"hours actually worked for activity 1 on 5th day\", \"wage earning for activity 1 on 5th day\", \"Status Code for activity 2\", \"Industry Code (NIC) for activity 2\", \n",
    "    \"hours actually worked for activity 2 on 5th day\", \"wage earning for activity 2 on 5th day\", \"total hours actually worked on 5th day\", \"hours available for additional worked on 5th day\", \n",
    "    \"Status Code for activity 1\", \"Industry Code (NIC) for activity 1\", \"hours actually worked for activity 1 on 4th day\", \"wage earning for activity 1 on 4th day\", \n",
    "    \"Status Code for activity 2\", \"Industry Code (NIC) for activity 2\", \"hours actually worked for activity 2 on 4th day\", \"wage earning for activity 2 on 4th day\", \n",
    "    \"total hours actually worked on 4th day\", \"hours available for additional worked on 4th day\", \"Status Code for activity 1\", \"Industry Code (NIC) for activity 1\", \n",
    "    \"hours actually worked for activity 1 on 3rd day\", \"wage earning for activity 1 on 3rd day\", \"Status Code for activity 2\", \"Industry Code (NIC) for activity 2\", \n",
    "    \"hours actually worked for activity 2 on 3rd day\", \"wage earning for activity 2 on 3rd day\", \"total hours actually worked on 3rd day\", \"hours available for additional worked on 3rd day\", \n",
    "    \"Status Code for activity 1\", \"Industry Code (NIC) for activity 1\", \"hours actually worked for activity 1 on 2nd day\", \"wage earning for activity 1 on 2nd day\", \n",
    "    \"Status Code for activity 2\", \"Industry Code (NIC) for activity 2\", \"hours actually worked for activity 2 on 2nd day\", \"wage earning for activity 2 on 2nd day\", \n",
    "    \"total hours actually worked on 2nd day\", \"hours available for additional worked on 2nd day\", \"Status Code for activity 1\", \"Industry Code (NIC) for activity 1\", \n",
    "    \"hours actually worked for activity 1 on 1st day\", \"wage earning for activity 1 on 1st day\", \"Status Code for activity 2\", \"Industry Code (NIC) for activity 2\", \n",
    "    \"hours actually worked for activity 2 on 1st day\", \"wage earning for activity 2 on 1st day\", \"total hours actually worked on 1st day\", \"hours available for additional worked on 1st day\", \n",
    "    \"Current Weekly Status (CWS)\", \"Industry Code (CWS)\", \"Occupation Code (CWS)\", \"Earnings For Regular Salaried/Wage Activity\", \"Earnings For Self Employed\", \n",
    "    \"Ns count for sector x stratum x substratum x sub-sample\", \"Ns count for sector x stratum x substratum\", \"Sub-sample wise Multiplier\", \n",
    "    \"Occurrence of FSUs in State x Sector x Stratum x SubStratum in 4 Quarters\"\n",
    "]\n"
   ]
  },
  {
   "cell_type": "code",
   "execution_count": 7,
   "id": "5838b02a-8c51-4c01-978f-28af14d18c3c",
   "metadata": {},
   "outputs": [],
   "source": [
    "col_dict = dict(zip(old_cols, new_cols))"
   ]
  },
  {
   "cell_type": "code",
   "execution_count": 41,
   "id": "431f61e5-fb74-4e38-af6b-1f1e0f340961",
   "metadata": {},
   "outputs": [
    {
     "data": {
      "text/plain": [
       "{'b1': 'Panel',\n",
       " 'b2': 'File Identification',\n",
       " 'b3': 'Schedule',\n",
       " 'b4': 'Quarter',\n",
       " 'b5': 'Visit',\n",
       " 'b6': 'Sector',\n",
       " 'b7': 'State/Ut Code',\n",
       " 'b8': 'District Code',\n",
       " 'b9': 'NSS-Region',\n",
       " 'b10': 'Stratum',\n",
       " 'b11': 'Sub-Stratum',\n",
       " 'b12': 'Sub-Sample',\n",
       " 'b13': 'Food Sub-Region',\n",
       " 'b14': 'FSU',\n",
       " 'b15': 'Sample Sg/Sb No.',\n",
       " 'b16': 'Second Stage Stratum No.',\n",
       " 'b17': 'Sample Household Number',\n",
       " 'b18': 'Person Serial No.',\n",
       " 'b19': 'Relationship To Head',\n",
       " 'b20': 'Sex',\n",
       " 'b21': 'Age',\n",
       " 'b22': 'Marital Status',\n",
       " 'b23': 'General Education Level',\n",
       " 'b24': 'Technical Education Level',\n",
       " 'b25': 'No. of years in Formal Education',\n",
       " 'b26': 'Status of Current Attendance in Educational Institution',\n",
       " 'b27': 'Whether received any Vocational/Technical Training',\n",
       " 'b28': 'Whether Training completed during last 365 Days',\n",
       " 'b29': 'Field Of Training',\n",
       " 'b30': 'Duration Of Training',\n",
       " 'b31': 'Type Of Training',\n",
       " 'b32': 'Source Of Funding The Training',\n",
       " 'b33': 'Status Code',\n",
       " 'b34': 'Industry Code (NIC)',\n",
       " 'b35': 'occup_code',\n",
       " 'b36': 'Whether Engaged In Any Work In Subsidiary Capacity',\n",
       " 'b37': '(Principal) location Of Workplace Code',\n",
       " 'b38': '(Principal) Enterprise Type Code',\n",
       " 'b39': '(Principal) No. Of Workers In The Enterprise',\n",
       " 'b40': '(Principal) Type Of Job Contract',\n",
       " 'b41': '(Principal) Eligible Of Paid Leave',\n",
       " 'b42': '(Principal) Social Security Benefits',\n",
       " 'b43': '(Principal) Usage of product of the economic activity',\n",
       " 'b44': 'Status Code',\n",
       " 'b45': 'Industry Code (NIC)',\n",
       " 'b46': 'Occupation Code (NCO)',\n",
       " 'b47': '(Subsidiary) location Of Workplace Code',\n",
       " 'b48': '(Subsidiary) Enterprise Type Code',\n",
       " 'b49': '(Subsidiary) No. Of Workers In The Enterprise',\n",
       " 'b50': '(Subsidiary) Type Of Job Contract',\n",
       " 'b51': '(Subsidiary) Eligible Of Paid Leave',\n",
       " 'b52': '(Subsidiary) Social Security Benefits',\n",
       " 'b53': '(Subsidiary) Usage of product of the economic activity',\n",
       " 'b54': 'Ever Worked Prior to last 365 days',\n",
       " 'b55': 'Duration of engagement in the economic activity in usual Principal Activity Status',\n",
       " 'b56': 'Duration of engagement in the economic activity in Subsidiary Activity Status',\n",
       " 'b57': 'Efforts undertaken to search work',\n",
       " 'b58': 'Duration of spell of Unemployment',\n",
       " 'b59': 'Whether Ever Worked',\n",
       " 'b60': 'Reason for not working in last 365 days',\n",
       " 'b61': 'Main reason for being in Principal activity status (91 to 97)',\n",
       " 'b62': 'Status Code for activity 1',\n",
       " 'b63': 'Industry Code (NIC) for activity 1',\n",
       " 'b64': 'hours actually worked for activity 1 on 7th day',\n",
       " 'b65': 'wage earning for activity 1 on 7th day',\n",
       " 'b66': 'Status Code for activity 2',\n",
       " 'b67': 'Industry Code (NIC) for activity 2',\n",
       " 'b68': 'hours actually worked for activity 2 on 7th day',\n",
       " 'b69': 'wage earning for activity 2 on 7th day',\n",
       " 'b70': 'total hours actually worked on 7th day',\n",
       " 'b71': 'hours available for additional worked on 7th day',\n",
       " 'b72': 'Status Code for activity 1',\n",
       " 'b73': 'Industry Code (NIC) for activity 1',\n",
       " 'b74': 'hours actually worked for activity 1 on 6th day',\n",
       " 'b75': 'wage earning for activity 1 on 7th day',\n",
       " 'b76': 'Status Code for activity 2',\n",
       " 'b77': 'Industry Code (NIC) for activity 2',\n",
       " 'b78': 'hours actually worked for activity 2 on 6th day',\n",
       " 'b79': 'wage earning for activity 2 on 6th day',\n",
       " 'b80': 'total hours actually worked on 6th day',\n",
       " 'b81': 'hours available for additional worked on 6th day',\n",
       " 'b82': 'Status Code for activity 1',\n",
       " 'b83': 'Industry Code (NIC) for activity 1',\n",
       " 'b84': 'hours actually worked for activity 1 on 5th day',\n",
       " 'b85': 'wage earning for activity 1 on 5th day',\n",
       " 'b86': 'Status Code for activity 2',\n",
       " 'b87': 'Industry Code (NIC) for activity 2',\n",
       " 'b88': 'hours actually worked for activity 2 on 5th day',\n",
       " 'b89': 'wage earning for activity 2 on 5th day',\n",
       " 'b90': 'total hours actually worked on 5th day',\n",
       " 'b91': 'hours available for additional worked on 5th day',\n",
       " 'b92': 'Status Code for activity 1',\n",
       " 'b93': 'Industry Code (NIC) for activity 1',\n",
       " 'b94': 'hours actually worked for activity 1 on 4th day',\n",
       " 'b95': 'wage earning for activity 1 on 4th day',\n",
       " 'b96': 'Status Code for activity 2',\n",
       " 'b97': 'Industry Code (NIC) for activity 2',\n",
       " 'b98': 'hours actually worked for activity 2 on 4th day',\n",
       " 'b99': 'wage earning for activity 2 on 4th day',\n",
       " 'b100': 'total hours actually worked on 4th day',\n",
       " 'b101': 'hours available for additional worked on 4th day',\n",
       " 'b102': 'Status Code for activity 1',\n",
       " 'b103': 'Industry Code (NIC) for activity 1',\n",
       " 'b104': 'hours actually worked for activity 1 on 3rd day',\n",
       " 'b105': 'wage earning for activity 1 on 3rd day',\n",
       " 'b106': 'Status Code for activity 2',\n",
       " 'b107': 'Industry Code (NIC) for activity 2',\n",
       " 'b108': 'hours actually worked for activity 2 on 3rd day',\n",
       " 'b109': 'wage earning for activity 2 on 3rd day',\n",
       " 'b110': 'total hours actually worked on 3rd day',\n",
       " 'b111': 'hours available for additional worked on 3rd day',\n",
       " 'b112': 'Status Code for activity 1',\n",
       " 'b113': 'Industry Code (NIC) for activity 1',\n",
       " 'b114': 'hours actually worked for activity 1 on 2nd day',\n",
       " 'b115': 'wage earning for activity 1 on 2nd day',\n",
       " 'b116': 'Status Code for activity 2',\n",
       " 'b117': 'Industry Code (NIC) for activity 2',\n",
       " 'b118': 'hours actually worked for activity 2 on 2nd day',\n",
       " 'b119': 'wage earning for activity 2 on 2nd day',\n",
       " 'b120': 'total hours actually worked on 2nd day',\n",
       " 'b121': 'hours available for additional worked on 2nd day',\n",
       " 'b122': 'Status Code for activity 1',\n",
       " 'b123': 'Industry Code (NIC) for activity 1',\n",
       " 'b124': 'hours actually worked for activity 1 on 1st day',\n",
       " 'b125': 'wage earning for activity 1 on 1st day',\n",
       " 'b126': 'Status Code for activity 2',\n",
       " 'b127': 'Industry Code (NIC) for activity 2',\n",
       " 'b128': 'hours actually worked for activity 2 on 1st day',\n",
       " 'b129': 'wage earning for activity 2 on 1st day',\n",
       " 'b130': 'total hours actually worked on 1st day',\n",
       " 'b131': 'hours available for additional worked on 1st day',\n",
       " 'b132': 'Current Weekly Status (CWS)',\n",
       " 'b133': 'Industry Code (CWS)',\n",
       " 'b134': 'Occupation Code (CWS)',\n",
       " 'b135': 'Earnings For Regular Salaried/Wage Activity',\n",
       " 'b136': 'Earnings For Self Employed',\n",
       " 'b137': 'Ns count for sector x stratum x substratum x sub-sample',\n",
       " 'b138': 'Ns count for sector x stratum x substratum',\n",
       " 'b139': 'Sub-sample wise Multiplier',\n",
       " 'b140': 'Occurrence of FSUs in State x Sector x Stratum x SubStratum in 4 Quarters'}"
      ]
     },
     "execution_count": 41,
     "metadata": {},
     "output_type": "execute_result"
    }
   ],
   "source": [
    "col_dict"
   ]
  },
  {
   "cell_type": "code",
   "execution_count": 124,
   "id": "d4d30b09-1ecc-4831-b196-fae618eba21d",
   "metadata": {},
   "outputs": [],
   "source": [
    "# renaming the columns\n",
    "df = df.rename(columns = col_dict)"
   ]
  },
  {
   "cell_type": "markdown",
   "id": "b8a8b45e-2887-459b-a750-c1b5c1f1b725",
   "metadata": {},
   "source": [
    "Now there is a column named \"occup code\" that records the occupation of the worker. I want the corresponding occupation titles.  "
   ]
  },
  {
   "cell_type": "code",
   "execution_count": 9,
   "id": "7ba6a6b7-fe67-4449-b0a6-60d9981e8ff4",
   "metadata": {},
   "outputs": [
    {
     "data": {
      "text/plain": [
       "array(['611', '335', '931', '', '711', '921', '233', '514', '312', '723',\n",
       "       '753', '411', '832', '512', '911', '622', '812', '322', '112',\n",
       "       '713', '612', '742', '522', '325', '721', '524', '741', '421',\n",
       "       '613', '833', '263', '251', '752', '712', '531', '412', '521',\n",
       "       '141', '122', '231', '331', '332', '751', '432', '952', '241',\n",
       "       '815', '313', '111', '222', '333', '234', '912', '422', '341',\n",
       "       '932', '413', '933', '311', '541', '142', '131', '961', '441',\n",
       "       '121', '813', '352', '235', '516', '731', '632', '431', '818',\n",
       "       '224', '816', '515', '511', '226', '523', '834', '962', '132',\n",
       "       '513', '732', '334', '243', '351', '343', '252', '143', '242',\n",
       "       '221', '621', '631', '633', '214', '532', '225', '722', '754',\n",
       "       '315', '814', '321', '261', '817', '324', '835', '811', '831',\n",
       "       '941', '223', '213', '265', '215', '821', '216', '133', '342',\n",
       "       '951', '262', '134', '314', '211', '634', '323', '232', '264',\n",
       "       '212'], dtype=object)"
      ]
     },
     "execution_count": 9,
     "metadata": {},
     "output_type": "execute_result"
    }
   ],
   "source": [
    "# fetching unique occupation codes in the data\n",
    "df.occup_code.unique()"
   ]
  },
  {
   "cell_type": "code",
   "execution_count": 12,
   "id": "aa5e4d4f-9a94-4488-9076-42308fa16b07",
   "metadata": {},
   "outputs": [],
   "source": [
    "# dictionary of occupations \n",
    "categories = {\n",
    "    1: \"Managers\",\n",
    "    2: \"Professionals\",\n",
    "    3: \"Technicians & Associate Professionals\",\n",
    "    4: \"Clerks\",\n",
    "    5: \"Service and Sales Workers\",\n",
    "    6: \"Skilled Agricultural and Fishery Workers\",\n",
    "    7: \"Craft and Related Trades Workers\",\n",
    "    8: \"Plant and Machinery Operators and Assemblers\",\n",
    "    9: \"Elementary Occupations\"\n",
    "}\n",
    "\n",
    "# Define a function to map occupation codes to categories\n",
    "def map_category(occup_code):\n",
    "    if occup_code and len(occup_code) >= 1:\n",
    "        first_digit = int(occup_code[0])  # Extract the first digit of the occupation code\n",
    "        return categories.get(first_digit, None)  # Return the corresponding category or None if not found\n",
    "    else:\n",
    "        return None  # Return None if occupation code is empty or too short\n",
    "\n",
    "# Apply the function to create a new column 'job_category'\n",
    "df['occupation'] = df['occup_code'].apply(map_category)"
   ]
  },
  {
   "cell_type": "code",
   "execution_count": 14,
   "id": "77dd3dc8-b89f-4228-a32a-3d0177dbed87",
   "metadata": {},
   "outputs": [
    {
     "data": {
      "text/plain": [
       "0    Skilled Agricultural and Fishery Workers\n",
       "1       Technicians & Associate Professionals\n",
       "2    Skilled Agricultural and Fishery Workers\n",
       "3       Technicians & Associate Professionals\n",
       "4    Skilled Agricultural and Fishery Workers\n",
       "Name: occupation, dtype: object"
      ]
     },
     "execution_count": 14,
     "metadata": {},
     "output_type": "execute_result"
    }
   ],
   "source": [
    "df[\"occupation\"].head()"
   ]
  },
  {
   "cell_type": "code",
   "execution_count": 65,
   "id": "01471f4f-67d7-4b6f-8aea-a5f680de7665",
   "metadata": {},
   "outputs": [],
   "source": [
    "df.to_csv('C:/Users/hp/Documents/projects-unit level data/cperv.csv', index=False)"
   ]
  },
  {
   "cell_type": "code",
   "execution_count": 126,
   "id": "db609e94-9ae9-4a8e-8296-1cec95c29986",
   "metadata": {},
   "outputs": [
    {
     "data": {
      "text/plain": [
       "occupation\n",
       "Skilled Agricultural and Fishery Workers        46086\n",
       "Elementary Occupations                          31595\n",
       "Service and Sales Workers                       23125\n",
       "Craft and Related Trades Workers                18715\n",
       "Professionals                                   10534\n",
       "Plant and Machinery Operators and Assemblers    10271\n",
       "Managers                                         9409\n",
       "Clerks                                           4900\n",
       "Technicians & Associate Professionals            4473\n",
       "Name: count, dtype: int64"
      ]
     },
     "execution_count": 126,
     "metadata": {},
     "output_type": "execute_result"
    }
   ],
   "source": [
    "# total number of workers per occupation\n",
    "df['occupation'].value_counts()"
   ]
  },
  {
   "cell_type": "code",
   "execution_count": 54,
   "id": "c5621a59-ab7a-4515-877c-65ac2c23f1f6",
   "metadata": {},
   "outputs": [
    {
     "data": {
      "text/html": [
       "<div>\n",
       "<style scoped>\n",
       "    .dataframe tbody tr th:only-of-type {\n",
       "        vertical-align: middle;\n",
       "    }\n",
       "\n",
       "    .dataframe tbody tr th {\n",
       "        vertical-align: top;\n",
       "    }\n",
       "\n",
       "    .dataframe thead th {\n",
       "        text-align: right;\n",
       "    }\n",
       "</style>\n",
       "<table border=\"1\" class=\"dataframe\">\n",
       "  <thead>\n",
       "    <tr style=\"text-align: right;\">\n",
       "      <th></th>\n",
       "      <th>Occupation</th>\n",
       "      <th>Count</th>\n",
       "      <th>Percentage</th>\n",
       "    </tr>\n",
       "  </thead>\n",
       "  <tbody>\n",
       "    <tr>\n",
       "      <th>0</th>\n",
       "      <td>Skilled Agricultural and Fishery Workers</td>\n",
       "      <td>17225</td>\n",
       "      <td>40.197428</td>\n",
       "    </tr>\n",
       "    <tr>\n",
       "      <th>1</th>\n",
       "      <td>Elementary Occupations</td>\n",
       "      <td>9362</td>\n",
       "      <td>21.847798</td>\n",
       "    </tr>\n",
       "    <tr>\n",
       "      <th>2</th>\n",
       "      <td>Service and Sales Workers</td>\n",
       "      <td>4612</td>\n",
       "      <td>10.762876</td>\n",
       "    </tr>\n",
       "    <tr>\n",
       "      <th>3</th>\n",
       "      <td>Professionals</td>\n",
       "      <td>3805</td>\n",
       "      <td>8.879606</td>\n",
       "    </tr>\n",
       "    <tr>\n",
       "      <th>4</th>\n",
       "      <td>Craft and Related Trades Workers</td>\n",
       "      <td>3667</td>\n",
       "      <td>8.557560</td>\n",
       "    </tr>\n",
       "    <tr>\n",
       "      <th>5</th>\n",
       "      <td>Managers</td>\n",
       "      <td>1450</td>\n",
       "      <td>3.383818</td>\n",
       "    </tr>\n",
       "    <tr>\n",
       "      <th>6</th>\n",
       "      <td>Clerks</td>\n",
       "      <td>1194</td>\n",
       "      <td>2.786399</td>\n",
       "    </tr>\n",
       "    <tr>\n",
       "      <th>7</th>\n",
       "      <td>Technicians &amp; Associate Professionals</td>\n",
       "      <td>1121</td>\n",
       "      <td>2.616042</td>\n",
       "    </tr>\n",
       "    <tr>\n",
       "      <th>8</th>\n",
       "      <td>Plant and Machinery Operators and Assemblers</td>\n",
       "      <td>415</td>\n",
       "      <td>0.968472</td>\n",
       "    </tr>\n",
       "  </tbody>\n",
       "</table>\n",
       "</div>"
      ],
      "text/plain": [
       "                                     Occupation  Count  Percentage\n",
       "0      Skilled Agricultural and Fishery Workers  17225   40.197428\n",
       "1                        Elementary Occupations   9362   21.847798\n",
       "2                     Service and Sales Workers   4612   10.762876\n",
       "3                                 Professionals   3805    8.879606\n",
       "4              Craft and Related Trades Workers   3667    8.557560\n",
       "5                                      Managers   1450    3.383818\n",
       "6                                        Clerks   1194    2.786399\n",
       "7         Technicians & Associate Professionals   1121    2.616042\n",
       "8  Plant and Machinery Operators and Assemblers    415    0.968472"
      ]
     },
     "execution_count": 54,
     "metadata": {},
     "output_type": "execute_result"
    }
   ],
   "source": [
    "# selecting the data for females\n",
    "female_df = df[df[\"Sex\"]==\"2\"]\n",
    "female_occupation = female_df['occupation'].value_counts().reset_index()\n",
    "female_occupation.columns = ['Occupation', 'Count']\n",
    "female_occupation['Percentage'] = (female_occupation['Count'] / female_occupation['Count'].sum()) * 100\n",
    "female_occupation"
   ]
  },
  {
   "cell_type": "code",
   "execution_count": 67,
   "id": "21b3e5fb-20fd-4728-a976-5e4de5f553d5",
   "metadata": {},
   "outputs": [
    {
     "data": {
      "text/html": [
       "<style>@import url(\"https://fonts.google.com/share?selection.family=DM+Serif+Text:ital@0;1\");</style>"
      ],
      "text/plain": [
       "<IPython.core.display.HTML object>"
      ]
     },
     "metadata": {},
     "output_type": "display_data"
    }
   ],
   "source": [
    "from IPython.display import display, HTML\n",
    "\n",
    "display(HTML('<style>@import url(\"https://fonts.google.com/share?selection.family=DM+Serif+Text:ital@0;1\");</style>'))"
   ]
  },
  {
   "cell_type": "code",
   "execution_count": 122,
   "id": "b50d61ff-8011-47f2-9afb-e98ad517d0ad",
   "metadata": {},
   "outputs": [
    {
     "data": {
      "application/vnd.plotly.v1+json": {
       "config": {
        "plotlyServerURL": "https://plot.ly"
       },
       "data": [
        {
         "alignmentgroup": "True",
         "hovertemplate": "Percentage=%{x}<br>Occupation=%{y}<extra></extra>",
         "legendgroup": "",
         "marker": {
          "color": "black",
          "pattern": {
           "shape": ""
          }
         },
         "name": "",
         "offsetgroup": "",
         "orientation": "h",
         "showlegend": false,
         "textposition": "auto",
         "type": "bar",
         "x": [
          40.19742829805605,
          21.84779818440643,
          10.76287601222842,
          8.879606076871017,
          8.557559916921425,
          3.383818347296446,
          2.786399383911694,
          2.616041632634011,
          0.9684721476745
         ],
         "xaxis": "x",
         "y": [
          "Skilled Agricultural and Fishery Workers",
          "Elementary Occupations",
          "Service and Sales Workers",
          "Professionals",
          "Craft and Related Trades Workers",
          "Managers",
          "Clerks",
          "Technicians & Associate Professionals",
          "Plant and Machinery Operators and Assemblers"
         ],
         "yaxis": "y"
        }
       ],
       "layout": {
        "annotations": [
         {
          "font": {
           "size": 9
          },
          "showarrow": false,
          "text": "Source: Periodic Labor Force Survey, 2022.",
          "x": 0,
          "xref": "paper",
          "y": -0.2,
          "yref": "paper"
         }
        ],
        "autosize": true,
        "barmode": "relative",
        "font": {
         "color": "black",
         "family": "DM Serif Text",
         "size": 12
        },
        "legend": {
         "tracegroupgap": 0
        },
        "margin": {
         "t": 60
        },
        "paper_bgcolor": "white",
        "plot_bgcolor": "white",
        "template": {
         "data": {
          "bar": [
           {
            "error_x": {
             "color": "#2a3f5f"
            },
            "error_y": {
             "color": "#2a3f5f"
            },
            "marker": {
             "line": {
              "color": "#E5ECF6",
              "width": 0.5
             },
             "pattern": {
              "fillmode": "overlay",
              "size": 10,
              "solidity": 0.2
             }
            },
            "type": "bar"
           }
          ],
          "barpolar": [
           {
            "marker": {
             "line": {
              "color": "#E5ECF6",
              "width": 0.5
             },
             "pattern": {
              "fillmode": "overlay",
              "size": 10,
              "solidity": 0.2
             }
            },
            "type": "barpolar"
           }
          ],
          "carpet": [
           {
            "aaxis": {
             "endlinecolor": "#2a3f5f",
             "gridcolor": "white",
             "linecolor": "white",
             "minorgridcolor": "white",
             "startlinecolor": "#2a3f5f"
            },
            "baxis": {
             "endlinecolor": "#2a3f5f",
             "gridcolor": "white",
             "linecolor": "white",
             "minorgridcolor": "white",
             "startlinecolor": "#2a3f5f"
            },
            "type": "carpet"
           }
          ],
          "choropleth": [
           {
            "colorbar": {
             "outlinewidth": 0,
             "ticks": ""
            },
            "type": "choropleth"
           }
          ],
          "contour": [
           {
            "colorbar": {
             "outlinewidth": 0,
             "ticks": ""
            },
            "colorscale": [
             [
              0,
              "#0d0887"
             ],
             [
              0.1111111111111111,
              "#46039f"
             ],
             [
              0.2222222222222222,
              "#7201a8"
             ],
             [
              0.3333333333333333,
              "#9c179e"
             ],
             [
              0.4444444444444444,
              "#bd3786"
             ],
             [
              0.5555555555555556,
              "#d8576b"
             ],
             [
              0.6666666666666666,
              "#ed7953"
             ],
             [
              0.7777777777777778,
              "#fb9f3a"
             ],
             [
              0.8888888888888888,
              "#fdca26"
             ],
             [
              1,
              "#f0f921"
             ]
            ],
            "type": "contour"
           }
          ],
          "contourcarpet": [
           {
            "colorbar": {
             "outlinewidth": 0,
             "ticks": ""
            },
            "type": "contourcarpet"
           }
          ],
          "heatmap": [
           {
            "colorbar": {
             "outlinewidth": 0,
             "ticks": ""
            },
            "colorscale": [
             [
              0,
              "#0d0887"
             ],
             [
              0.1111111111111111,
              "#46039f"
             ],
             [
              0.2222222222222222,
              "#7201a8"
             ],
             [
              0.3333333333333333,
              "#9c179e"
             ],
             [
              0.4444444444444444,
              "#bd3786"
             ],
             [
              0.5555555555555556,
              "#d8576b"
             ],
             [
              0.6666666666666666,
              "#ed7953"
             ],
             [
              0.7777777777777778,
              "#fb9f3a"
             ],
             [
              0.8888888888888888,
              "#fdca26"
             ],
             [
              1,
              "#f0f921"
             ]
            ],
            "type": "heatmap"
           }
          ],
          "heatmapgl": [
           {
            "colorbar": {
             "outlinewidth": 0,
             "ticks": ""
            },
            "colorscale": [
             [
              0,
              "#0d0887"
             ],
             [
              0.1111111111111111,
              "#46039f"
             ],
             [
              0.2222222222222222,
              "#7201a8"
             ],
             [
              0.3333333333333333,
              "#9c179e"
             ],
             [
              0.4444444444444444,
              "#bd3786"
             ],
             [
              0.5555555555555556,
              "#d8576b"
             ],
             [
              0.6666666666666666,
              "#ed7953"
             ],
             [
              0.7777777777777778,
              "#fb9f3a"
             ],
             [
              0.8888888888888888,
              "#fdca26"
             ],
             [
              1,
              "#f0f921"
             ]
            ],
            "type": "heatmapgl"
           }
          ],
          "histogram": [
           {
            "marker": {
             "pattern": {
              "fillmode": "overlay",
              "size": 10,
              "solidity": 0.2
             }
            },
            "type": "histogram"
           }
          ],
          "histogram2d": [
           {
            "colorbar": {
             "outlinewidth": 0,
             "ticks": ""
            },
            "colorscale": [
             [
              0,
              "#0d0887"
             ],
             [
              0.1111111111111111,
              "#46039f"
             ],
             [
              0.2222222222222222,
              "#7201a8"
             ],
             [
              0.3333333333333333,
              "#9c179e"
             ],
             [
              0.4444444444444444,
              "#bd3786"
             ],
             [
              0.5555555555555556,
              "#d8576b"
             ],
             [
              0.6666666666666666,
              "#ed7953"
             ],
             [
              0.7777777777777778,
              "#fb9f3a"
             ],
             [
              0.8888888888888888,
              "#fdca26"
             ],
             [
              1,
              "#f0f921"
             ]
            ],
            "type": "histogram2d"
           }
          ],
          "histogram2dcontour": [
           {
            "colorbar": {
             "outlinewidth": 0,
             "ticks": ""
            },
            "colorscale": [
             [
              0,
              "#0d0887"
             ],
             [
              0.1111111111111111,
              "#46039f"
             ],
             [
              0.2222222222222222,
              "#7201a8"
             ],
             [
              0.3333333333333333,
              "#9c179e"
             ],
             [
              0.4444444444444444,
              "#bd3786"
             ],
             [
              0.5555555555555556,
              "#d8576b"
             ],
             [
              0.6666666666666666,
              "#ed7953"
             ],
             [
              0.7777777777777778,
              "#fb9f3a"
             ],
             [
              0.8888888888888888,
              "#fdca26"
             ],
             [
              1,
              "#f0f921"
             ]
            ],
            "type": "histogram2dcontour"
           }
          ],
          "mesh3d": [
           {
            "colorbar": {
             "outlinewidth": 0,
             "ticks": ""
            },
            "type": "mesh3d"
           }
          ],
          "parcoords": [
           {
            "line": {
             "colorbar": {
              "outlinewidth": 0,
              "ticks": ""
             }
            },
            "type": "parcoords"
           }
          ],
          "pie": [
           {
            "automargin": true,
            "type": "pie"
           }
          ],
          "scatter": [
           {
            "fillpattern": {
             "fillmode": "overlay",
             "size": 10,
             "solidity": 0.2
            },
            "type": "scatter"
           }
          ],
          "scatter3d": [
           {
            "line": {
             "colorbar": {
              "outlinewidth": 0,
              "ticks": ""
             }
            },
            "marker": {
             "colorbar": {
              "outlinewidth": 0,
              "ticks": ""
             }
            },
            "type": "scatter3d"
           }
          ],
          "scattercarpet": [
           {
            "marker": {
             "colorbar": {
              "outlinewidth": 0,
              "ticks": ""
             }
            },
            "type": "scattercarpet"
           }
          ],
          "scattergeo": [
           {
            "marker": {
             "colorbar": {
              "outlinewidth": 0,
              "ticks": ""
             }
            },
            "type": "scattergeo"
           }
          ],
          "scattergl": [
           {
            "marker": {
             "colorbar": {
              "outlinewidth": 0,
              "ticks": ""
             }
            },
            "type": "scattergl"
           }
          ],
          "scattermapbox": [
           {
            "marker": {
             "colorbar": {
              "outlinewidth": 0,
              "ticks": ""
             }
            },
            "type": "scattermapbox"
           }
          ],
          "scatterpolar": [
           {
            "marker": {
             "colorbar": {
              "outlinewidth": 0,
              "ticks": ""
             }
            },
            "type": "scatterpolar"
           }
          ],
          "scatterpolargl": [
           {
            "marker": {
             "colorbar": {
              "outlinewidth": 0,
              "ticks": ""
             }
            },
            "type": "scatterpolargl"
           }
          ],
          "scatterternary": [
           {
            "marker": {
             "colorbar": {
              "outlinewidth": 0,
              "ticks": ""
             }
            },
            "type": "scatterternary"
           }
          ],
          "surface": [
           {
            "colorbar": {
             "outlinewidth": 0,
             "ticks": ""
            },
            "colorscale": [
             [
              0,
              "#0d0887"
             ],
             [
              0.1111111111111111,
              "#46039f"
             ],
             [
              0.2222222222222222,
              "#7201a8"
             ],
             [
              0.3333333333333333,
              "#9c179e"
             ],
             [
              0.4444444444444444,
              "#bd3786"
             ],
             [
              0.5555555555555556,
              "#d8576b"
             ],
             [
              0.6666666666666666,
              "#ed7953"
             ],
             [
              0.7777777777777778,
              "#fb9f3a"
             ],
             [
              0.8888888888888888,
              "#fdca26"
             ],
             [
              1,
              "#f0f921"
             ]
            ],
            "type": "surface"
           }
          ],
          "table": [
           {
            "cells": {
             "fill": {
              "color": "#EBF0F8"
             },
             "line": {
              "color": "white"
             }
            },
            "header": {
             "fill": {
              "color": "#C8D4E3"
             },
             "line": {
              "color": "white"
             }
            },
            "type": "table"
           }
          ]
         },
         "layout": {
          "annotationdefaults": {
           "arrowcolor": "#2a3f5f",
           "arrowhead": 0,
           "arrowwidth": 1
          },
          "autotypenumbers": "strict",
          "coloraxis": {
           "colorbar": {
            "outlinewidth": 0,
            "ticks": ""
           }
          },
          "colorscale": {
           "diverging": [
            [
             0,
             "#8e0152"
            ],
            [
             0.1,
             "#c51b7d"
            ],
            [
             0.2,
             "#de77ae"
            ],
            [
             0.3,
             "#f1b6da"
            ],
            [
             0.4,
             "#fde0ef"
            ],
            [
             0.5,
             "#f7f7f7"
            ],
            [
             0.6,
             "#e6f5d0"
            ],
            [
             0.7,
             "#b8e186"
            ],
            [
             0.8,
             "#7fbc41"
            ],
            [
             0.9,
             "#4d9221"
            ],
            [
             1,
             "#276419"
            ]
           ],
           "sequential": [
            [
             0,
             "#0d0887"
            ],
            [
             0.1111111111111111,
             "#46039f"
            ],
            [
             0.2222222222222222,
             "#7201a8"
            ],
            [
             0.3333333333333333,
             "#9c179e"
            ],
            [
             0.4444444444444444,
             "#bd3786"
            ],
            [
             0.5555555555555556,
             "#d8576b"
            ],
            [
             0.6666666666666666,
             "#ed7953"
            ],
            [
             0.7777777777777778,
             "#fb9f3a"
            ],
            [
             0.8888888888888888,
             "#fdca26"
            ],
            [
             1,
             "#f0f921"
            ]
           ],
           "sequentialminus": [
            [
             0,
             "#0d0887"
            ],
            [
             0.1111111111111111,
             "#46039f"
            ],
            [
             0.2222222222222222,
             "#7201a8"
            ],
            [
             0.3333333333333333,
             "#9c179e"
            ],
            [
             0.4444444444444444,
             "#bd3786"
            ],
            [
             0.5555555555555556,
             "#d8576b"
            ],
            [
             0.6666666666666666,
             "#ed7953"
            ],
            [
             0.7777777777777778,
             "#fb9f3a"
            ],
            [
             0.8888888888888888,
             "#fdca26"
            ],
            [
             1,
             "#f0f921"
            ]
           ]
          },
          "colorway": [
           "#636efa",
           "#EF553B",
           "#00cc96",
           "#ab63fa",
           "#FFA15A",
           "#19d3f3",
           "#FF6692",
           "#B6E880",
           "#FF97FF",
           "#FECB52"
          ],
          "font": {
           "color": "#2a3f5f"
          },
          "geo": {
           "bgcolor": "white",
           "lakecolor": "white",
           "landcolor": "#E5ECF6",
           "showlakes": true,
           "showland": true,
           "subunitcolor": "white"
          },
          "hoverlabel": {
           "align": "left"
          },
          "hovermode": "closest",
          "mapbox": {
           "style": "light"
          },
          "paper_bgcolor": "white",
          "plot_bgcolor": "#E5ECF6",
          "polar": {
           "angularaxis": {
            "gridcolor": "white",
            "linecolor": "white",
            "ticks": ""
           },
           "bgcolor": "#E5ECF6",
           "radialaxis": {
            "gridcolor": "white",
            "linecolor": "white",
            "ticks": ""
           }
          },
          "scene": {
           "xaxis": {
            "backgroundcolor": "#E5ECF6",
            "gridcolor": "white",
            "gridwidth": 2,
            "linecolor": "white",
            "showbackground": true,
            "ticks": "",
            "zerolinecolor": "white"
           },
           "yaxis": {
            "backgroundcolor": "#E5ECF6",
            "gridcolor": "white",
            "gridwidth": 2,
            "linecolor": "white",
            "showbackground": true,
            "ticks": "",
            "zerolinecolor": "white"
           },
           "zaxis": {
            "backgroundcolor": "#E5ECF6",
            "gridcolor": "white",
            "gridwidth": 2,
            "linecolor": "white",
            "showbackground": true,
            "ticks": "",
            "zerolinecolor": "white"
           }
          },
          "shapedefaults": {
           "line": {
            "color": "#2a3f5f"
           }
          },
          "ternary": {
           "aaxis": {
            "gridcolor": "white",
            "linecolor": "white",
            "ticks": ""
           },
           "baxis": {
            "gridcolor": "white",
            "linecolor": "white",
            "ticks": ""
           },
           "bgcolor": "#E5ECF6",
           "caxis": {
            "gridcolor": "white",
            "linecolor": "white",
            "ticks": ""
           }
          },
          "title": {
           "x": 0.05
          },
          "xaxis": {
           "automargin": true,
           "gridcolor": "white",
           "linecolor": "white",
           "ticks": "",
           "title": {
            "standoff": 15
           },
           "zerolinecolor": "white",
           "zerolinewidth": 2
          },
          "yaxis": {
           "automargin": true,
           "gridcolor": "white",
           "linecolor": "white",
           "ticks": "",
           "title": {
            "standoff": 15
           },
           "zerolinecolor": "white",
           "zerolinewidth": 2
          }
         }
        },
        "title": {
         "font": {
          "family": "DM Serif Text",
          "size": 36
         },
         "text": "<b>% Distribution of Occupations Among Female Workforce</b>",
         "x": 0.5,
         "xanchor": "center"
        },
        "xaxis": {
         "anchor": "y",
         "autorange": true,
         "domain": [
          0,
          1
         ],
         "range": [
          0,
          42.31308241900637
         ],
         "title": {},
         "type": "linear"
        },
        "yaxis": {
         "anchor": "x",
         "autorange": true,
         "categoryarray": [
          "Plant and Machinery Operators and Assemblers",
          "Technicians & Associate Professionals",
          "Clerks",
          "Managers",
          "Craft and Related Trades Workers",
          "Professionals",
          "Service and Sales Workers",
          "Elementary Occupations",
          "Skilled Agricultural and Fishery Workers"
         ],
         "categoryorder": "array",
         "domain": [
          0,
          1
         ],
         "range": [
          -0.5,
          8.5
         ],
         "title": {},
         "type": "category"
        }
       }
      },
      "image/png": "[encoded data removed]",
      "text/html": [
       "<div>                            <div id=\"84cd2390-8986-475e-9cc0-c502c8b3491d\" class=\"plotly-graph-div\" style=\"height:525px; width:100%;\"></div>            <script type=\"text/javascript\">                require([\"plotly\"], function(Plotly) {                    window.PLOTLYENV=window.PLOTLYENV || {};                                    if (document.getElementById(\"84cd2390-8986-475e-9cc0-c502c8b3491d\")) {                    Plotly.newPlot(                        \"84cd2390-8986-475e-9cc0-c502c8b3491d\",                        [{\"alignmentgroup\":\"True\",\"hovertemplate\":\"Percentage=%{x}<br>Occupation=%{y}<extra></extra>\",\"legendgroup\":\"\",\"marker\":{\"color\":\"black\",\"pattern\":{\"shape\":\"\"}},\"name\":\"\",\"offsetgroup\":\"\",\"orientation\":\"h\",\"showlegend\":false,\"textposition\":\"auto\",\"x\":[40.19742829805605,21.84779818440643,10.76287601222842,8.879606076871017,8.557559916921425,3.383818347296446,2.786399383911694,2.616041632634011,0.9684721476745],\"xaxis\":\"x\",\"y\":[\"Skilled Agricultural and Fishery Workers\",\"Elementary Occupations\",\"Service and Sales Workers\",\"Professionals\",\"Craft and Related Trades Workers\",\"Managers\",\"Clerks\",\"Technicians & Associate Professionals\",\"Plant and Machinery Operators and Assemblers\"],\"yaxis\":\"y\",\"type\":\"bar\"}],                        {\"template\":{\"data\":{\"histogram2dcontour\":[{\"type\":\"histogram2dcontour\",\"colorbar\":{\"outlinewidth\":0,\"ticks\":\"\"},\"colorscale\":[[0.0,\"#0d0887\"],[0.1111111111111111,\"#46039f\"],[0.2222222222222222,\"#7201a8\"],[0.3333333333333333,\"#9c179e\"],[0.4444444444444444,\"#bd3786\"],[0.5555555555555556,\"#d8576b\"],[0.6666666666666666,\"#ed7953\"],[0.7777777777777778,\"#fb9f3a\"],[0.8888888888888888,\"#fdca26\"],[1.0,\"#f0f921\"]]}],\"choropleth\":[{\"type\":\"choropleth\",\"colorbar\":{\"outlinewidth\":0,\"ticks\":\"\"}}],\"histogram2d\":[{\"type\":\"histogram2d\",\"colorbar\":{\"outlinewidth\":0,\"ticks\":\"\"},\"colorscale\":[[0.0,\"#0d0887\"],[0.1111111111111111,\"#46039f\"],[0.2222222222222222,\"#7201a8\"],[0.3333333333333333,\"#9c179e\"],[0.4444444444444444,\"#bd3786\"],[0.5555555555555556,\"#d8576b\"],[0.6666666666666666,\"#ed7953\"],[0.7777777777777778,\"#fb9f3a\"],[0.8888888888888888,\"#fdca26\"],[1.0,\"#f0f921\"]]}],\"heatmap\":[{\"type\":\"heatmap\",\"colorbar\":{\"outlinewidth\":0,\"ticks\":\"\"},\"colorscale\":[[0.0,\"#0d0887\"],[0.1111111111111111,\"#46039f\"],[0.2222222222222222,\"#7201a8\"],[0.3333333333333333,\"#9c179e\"],[0.4444444444444444,\"#bd3786\"],[0.5555555555555556,\"#d8576b\"],[0.6666666666666666,\"#ed7953\"],[0.7777777777777778,\"#fb9f3a\"],[0.8888888888888888,\"#fdca26\"],[1.0,\"#f0f921\"]]}],\"heatmapgl\":[{\"type\":\"heatmapgl\",\"colorbar\":{\"outlinewidth\":0,\"ticks\":\"\"},\"colorscale\":[[0.0,\"#0d0887\"],[0.1111111111111111,\"#46039f\"],[0.2222222222222222,\"#7201a8\"],[0.3333333333333333,\"#9c179e\"],[0.4444444444444444,\"#bd3786\"],[0.5555555555555556,\"#d8576b\"],[0.6666666666666666,\"#ed7953\"],[0.7777777777777778,\"#fb9f3a\"],[0.8888888888888888,\"#fdca26\"],[1.0,\"#f0f921\"]]}],\"contourcarpet\":[{\"type\":\"contourcarpet\",\"colorbar\":{\"outlinewidth\":0,\"ticks\":\"\"}}],\"contour\":[{\"type\":\"contour\",\"colorbar\":{\"outlinewidth\":0,\"ticks\":\"\"},\"colorscale\":[[0.0,\"#0d0887\"],[0.1111111111111111,\"#46039f\"],[0.2222222222222222,\"#7201a8\"],[0.3333333333333333,\"#9c179e\"],[0.4444444444444444,\"#bd3786\"],[0.5555555555555556,\"#d8576b\"],[0.6666666666666666,\"#ed7953\"],[0.7777777777777778,\"#fb9f3a\"],[0.8888888888888888,\"#fdca26\"],[1.0,\"#f0f921\"]]}],\"surface\":[{\"type\":\"surface\",\"colorbar\":{\"outlinewidth\":0,\"ticks\":\"\"},\"colorscale\":[[0.0,\"#0d0887\"],[0.1111111111111111,\"#46039f\"],[0.2222222222222222,\"#7201a8\"],[0.3333333333333333,\"#9c179e\"],[0.4444444444444444,\"#bd3786\"],[0.5555555555555556,\"#d8576b\"],[0.6666666666666666,\"#ed7953\"],[0.7777777777777778,\"#fb9f3a\"],[0.8888888888888888,\"#fdca26\"],[1.0,\"#f0f921\"]]}],\"mesh3d\":[{\"type\":\"mesh3d\",\"colorbar\":{\"outlinewidth\":0,\"ticks\":\"\"}}],\"scatter\":[{\"fillpattern\":{\"fillmode\":\"overlay\",\"size\":10,\"solidity\":0.2},\"type\":\"scatter\"}],\"parcoords\":[{\"type\":\"parcoords\",\"line\":{\"colorbar\":{\"outlinewidth\":0,\"ticks\":\"\"}}}],\"scatterpolargl\":[{\"type\":\"scatterpolargl\",\"marker\":{\"colorbar\":{\"outlinewidth\":0,\"ticks\":\"\"}}}],\"bar\":[{\"error_x\":{\"color\":\"#2a3f5f\"},\"error_y\":{\"color\":\"#2a3f5f\"},\"marker\":{\"line\":{\"color\":\"#E5ECF6\",\"width\":0.5},\"pattern\":{\"fillmode\":\"overlay\",\"size\":10,\"solidity\":0.2}},\"type\":\"bar\"}],\"scattergeo\":[{\"type\":\"scattergeo\",\"marker\":{\"colorbar\":{\"outlinewidth\":0,\"ticks\":\"\"}}}],\"scatterpolar\":[{\"type\":\"scatterpolar\",\"marker\":{\"colorbar\":{\"outlinewidth\":0,\"ticks\":\"\"}}}],\"histogram\":[{\"marker\":{\"pattern\":{\"fillmode\":\"overlay\",\"size\":10,\"solidity\":0.2}},\"type\":\"histogram\"}],\"scattergl\":[{\"type\":\"scattergl\",\"marker\":{\"colorbar\":{\"outlinewidth\":0,\"ticks\":\"\"}}}],\"scatter3d\":[{\"type\":\"scatter3d\",\"line\":{\"colorbar\":{\"outlinewidth\":0,\"ticks\":\"\"}},\"marker\":{\"colorbar\":{\"outlinewidth\":0,\"ticks\":\"\"}}}],\"scattermapbox\":[{\"type\":\"scattermapbox\",\"marker\":{\"colorbar\":{\"outlinewidth\":0,\"ticks\":\"\"}}}],\"scatterternary\":[{\"type\":\"scatterternary\",\"marker\":{\"colorbar\":{\"outlinewidth\":0,\"ticks\":\"\"}}}],\"scattercarpet\":[{\"type\":\"scattercarpet\",\"marker\":{\"colorbar\":{\"outlinewidth\":0,\"ticks\":\"\"}}}],\"carpet\":[{\"aaxis\":{\"endlinecolor\":\"#2a3f5f\",\"gridcolor\":\"white\",\"linecolor\":\"white\",\"minorgridcolor\":\"white\",\"startlinecolor\":\"#2a3f5f\"},\"baxis\":{\"endlinecolor\":\"#2a3f5f\",\"gridcolor\":\"white\",\"linecolor\":\"white\",\"minorgridcolor\":\"white\",\"startlinecolor\":\"#2a3f5f\"},\"type\":\"carpet\"}],\"table\":[{\"cells\":{\"fill\":{\"color\":\"#EBF0F8\"},\"line\":{\"color\":\"white\"}},\"header\":{\"fill\":{\"color\":\"#C8D4E3\"},\"line\":{\"color\":\"white\"}},\"type\":\"table\"}],\"barpolar\":[{\"marker\":{\"line\":{\"color\":\"#E5ECF6\",\"width\":0.5},\"pattern\":{\"fillmode\":\"overlay\",\"size\":10,\"solidity\":0.2}},\"type\":\"barpolar\"}],\"pie\":[{\"automargin\":true,\"type\":\"pie\"}]},\"layout\":{\"autotypenumbers\":\"strict\",\"colorway\":[\"#636efa\",\"#EF553B\",\"#00cc96\",\"#ab63fa\",\"#FFA15A\",\"#19d3f3\",\"#FF6692\",\"#B6E880\",\"#FF97FF\",\"#FECB52\"],\"font\":{\"color\":\"#2a3f5f\"},\"hovermode\":\"closest\",\"hoverlabel\":{\"align\":\"left\"},\"paper_bgcolor\":\"white\",\"plot_bgcolor\":\"#E5ECF6\",\"polar\":{\"bgcolor\":\"#E5ECF6\",\"angularaxis\":{\"gridcolor\":\"white\",\"linecolor\":\"white\",\"ticks\":\"\"},\"radialaxis\":{\"gridcolor\":\"white\",\"linecolor\":\"white\",\"ticks\":\"\"}},\"ternary\":{\"bgcolor\":\"#E5ECF6\",\"aaxis\":{\"gridcolor\":\"white\",\"linecolor\":\"white\",\"ticks\":\"\"},\"baxis\":{\"gridcolor\":\"white\",\"linecolor\":\"white\",\"ticks\":\"\"},\"caxis\":{\"gridcolor\":\"white\",\"linecolor\":\"white\",\"ticks\":\"\"}},\"coloraxis\":{\"colorbar\":{\"outlinewidth\":0,\"ticks\":\"\"}},\"colorscale\":{\"sequential\":[[0.0,\"#0d0887\"],[0.1111111111111111,\"#46039f\"],[0.2222222222222222,\"#7201a8\"],[0.3333333333333333,\"#9c179e\"],[0.4444444444444444,\"#bd3786\"],[0.5555555555555556,\"#d8576b\"],[0.6666666666666666,\"#ed7953\"],[0.7777777777777778,\"#fb9f3a\"],[0.8888888888888888,\"#fdca26\"],[1.0,\"#f0f921\"]],\"sequentialminus\":[[0.0,\"#0d0887\"],[0.1111111111111111,\"#46039f\"],[0.2222222222222222,\"#7201a8\"],[0.3333333333333333,\"#9c179e\"],[0.4444444444444444,\"#bd3786\"],[0.5555555555555556,\"#d8576b\"],[0.6666666666666666,\"#ed7953\"],[0.7777777777777778,\"#fb9f3a\"],[0.8888888888888888,\"#fdca26\"],[1.0,\"#f0f921\"]],\"diverging\":[[0,\"#8e0152\"],[0.1,\"#c51b7d\"],[0.2,\"#de77ae\"],[0.3,\"#f1b6da\"],[0.4,\"#fde0ef\"],[0.5,\"#f7f7f7\"],[0.6,\"#e6f5d0\"],[0.7,\"#b8e186\"],[0.8,\"#7fbc41\"],[0.9,\"#4d9221\"],[1,\"#276419\"]]},\"xaxis\":{\"gridcolor\":\"white\",\"linecolor\":\"white\",\"ticks\":\"\",\"title\":{\"standoff\":15},\"zerolinecolor\":\"white\",\"automargin\":true,\"zerolinewidth\":2},\"yaxis\":{\"gridcolor\":\"white\",\"linecolor\":\"white\",\"ticks\":\"\",\"title\":{\"standoff\":15},\"zerolinecolor\":\"white\",\"automargin\":true,\"zerolinewidth\":2},\"scene\":{\"xaxis\":{\"backgroundcolor\":\"#E5ECF6\",\"gridcolor\":\"white\",\"linecolor\":\"white\",\"showbackground\":true,\"ticks\":\"\",\"zerolinecolor\":\"white\",\"gridwidth\":2},\"yaxis\":{\"backgroundcolor\":\"#E5ECF6\",\"gridcolor\":\"white\",\"linecolor\":\"white\",\"showbackground\":true,\"ticks\":\"\",\"zerolinecolor\":\"white\",\"gridwidth\":2},\"zaxis\":{\"backgroundcolor\":\"#E5ECF6\",\"gridcolor\":\"white\",\"linecolor\":\"white\",\"showbackground\":true,\"ticks\":\"\",\"zerolinecolor\":\"white\",\"gridwidth\":2}},\"shapedefaults\":{\"line\":{\"color\":\"#2a3f5f\"}},\"annotationdefaults\":{\"arrowcolor\":\"#2a3f5f\",\"arrowhead\":0,\"arrowwidth\":1},\"geo\":{\"bgcolor\":\"white\",\"landcolor\":\"#E5ECF6\",\"subunitcolor\":\"white\",\"showland\":true,\"showlakes\":true,\"lakecolor\":\"white\"},\"title\":{\"x\":0.05},\"mapbox\":{\"style\":\"light\"}}},\"xaxis\":{\"anchor\":\"y\",\"domain\":[0.0,1.0],\"title\":{}},\"yaxis\":{\"anchor\":\"x\",\"domain\":[0.0,1.0],\"title\":{},\"categoryorder\":\"array\",\"categoryarray\":[\"Plant and Machinery Operators and Assemblers\",\"Technicians & Associate Professionals\",\"Clerks\",\"Managers\",\"Craft and Related Trades Workers\",\"Professionals\",\"Service and Sales Workers\",\"Elementary Occupations\",\"Skilled Agricultural and Fishery Workers\"]},\"legend\":{\"tracegroupgap\":0},\"margin\":{\"t\":60},\"barmode\":\"relative\",\"title\":{\"font\":{\"size\":36,\"family\":\"DM Serif Text\"},\"text\":\"<b>% Distribution of Occupations Among Female Workforce</b>\",\"x\":0.5,\"xanchor\":\"center\"},\"font\":{\"family\":\"DM Serif Text\",\"size\":12,\"color\":\"black\"},\"plot_bgcolor\":\"white\",\"paper_bgcolor\":\"white\",\"annotations\":[{\"font\":{\"size\":9},\"showarrow\":false,\"text\":\"Source: Periodic Labor Force Survey, 2022.\",\"x\":0,\"xref\":\"paper\",\"y\":-0.2,\"yref\":\"paper\"}]},                        {\"responsive\": true}                    ).then(function(){\n",
       "                            \n",
       "var gd = document.getElementById('84cd2390-8986-475e-9cc0-c502c8b3491d');\n",
       "var x = new MutationObserver(function (mutations, observer) {{\n",
       "        var display = window.getComputedStyle(gd).display;\n",
       "        if (!display || display === 'none') {{\n",
       "            console.log([gd, 'removed!']);\n",
       "            Plotly.purge(gd);\n",
       "            observer.disconnect();\n",
       "        }}\n",
       "}});\n",
       "\n",
       "// Listen for the removal of the full notebook cells\n",
       "var notebookContainer = gd.closest('#notebook-container');\n",
       "if (notebookContainer) {{\n",
       "    x.observe(notebookContainer, {childList: true});\n",
       "}}\n",
       "\n",
       "// Listen for the clearing of the current output cell\n",
       "var outputEl = gd.closest('.output');\n",
       "if (outputEl) {{\n",
       "    x.observe(outputEl, {childList: true});\n",
       "}}\n",
       "\n",
       "                        })                };                });            </script>        </div>"
      ]
     },
     "metadata": {},
     "output_type": "display_data"
    }
   ],
   "source": [
    "# creating a bar graph to visualize the % distribution of occupations\n",
    "fig = px.bar(female_occupation, \n",
    "             x='Percentage', \n",
    "             y='Occupation', \n",
    "             orientation='h',\n",
    "             color_discrete_sequence=['black'],\n",
    "            category_orders={'Occupation': female_occupation['Occupation']})\n",
    "\n",
    "\n",
    "# updating the layout\n",
    "fig.update_layout(plot_bgcolor='white', paper_bgcolor=\"white\",\n",
    "                  title={'text': \"<b>% Distribution of Occupations Among Female Workforce</b>\", 'x':0.5, \n",
    "                         'xanchor': 'center', 'font': {'size': 36, 'family': \"DM Serif Text\"}},\n",
    "                   xaxis_title=None,\n",
    "                   yaxis_title=None,\n",
    "                   font=dict(family=\"DM Serif Text\", size=12, color=\"black\"))\n",
    "\n",
    "\n",
    "# adding a small footnote\n",
    "fig.add_annotation(text=\"Source: Periodic Labor Force Survey, 2022.\",\n",
    "                   xref=\"paper\", yref=\"paper\",\n",
    "                   x=0, y=-0.2,\n",
    "                   showarrow=False,\n",
    "                   font=dict(size=9))\n",
    "\n",
    "# Show the figure\n",
    "fig.show()"
   ]
  },
  {
   "cell_type": "markdown",
   "id": "54048329-4ea4-43fb-893a-c9ef058247d7",
   "metadata": {},
   "source": [
    "- 40% of the female workforce is engaged in the primary sector (agriculture, fishing, etc.)\n",
    "- Female representation in the the top level occupations such as managers, clerks, and associate professionals is less than 5%."
   ]
  },
  {
   "cell_type": "code",
   "execution_count": null,
   "id": "034b4b9c-0cf9-4577-a8df-cbaf5253e8a5",
   "metadata": {},
   "outputs": [],
   "source": []
  }
 ],
 "metadata": {
  "kernelspec": {
   "display_name": "Python 3 (ipykernel)",
   "language": "python",
   "name": "python3"
  },
  "language_info": {
   "codemirror_mode": {
    "name": "ipython",
    "version": 3
   },
   "file_extension": ".py",
   "mimetype": "text/x-python",
   "name": "python",
   "nbconvert_exporter": "python",
   "pygments_lexer": "ipython3",
   "version": "3.11.7"
  }
 },
 "nbformat": 4,
 "nbformat_minor": 5
}
